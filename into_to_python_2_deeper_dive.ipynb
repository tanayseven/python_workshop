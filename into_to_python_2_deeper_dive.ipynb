{
 "cells": [
  {
   "cell_type": "markdown",
   "metadata": {},
   "source": [
    "# Intro to Python pt 2: Deeper Dive"
   ]
  },
  {
   "cell_type": "markdown",
   "metadata": {},
   "source": [
    "## Object Orientation"
   ]
  },
  {
   "cell_type": "markdown",
   "metadata": {},
   "source": [
    "### Objects as first class citizens"
   ]
  },
  {
   "cell_type": "code",
   "execution_count": null,
   "metadata": {},
   "outputs": [],
   "source": [
    "print(type(1))"
   ]
  },
  {
   "cell_type": "code",
   "execution_count": null,
   "metadata": {},
   "outputs": [],
   "source": [
    "print(type([1, 2, 3, 5]))\n",
    "print(type({'name': 'Jane Doe', 'language': 'Java'}))"
   ]
  },
  {
   "cell_type": "code",
   "execution_count": null,
   "metadata": {},
   "outputs": [],
   "source": [
    "print(type(lambda x: x**2))\n",
    "def do_nothing():\n",
    "    pass\n",
    "print(type(do_nothing))"
   ]
  },
  {
   "cell_type": "code",
   "execution_count": null,
   "metadata": {},
   "outputs": [],
   "source": [
    "class CustomType:\n",
    "    pass\n",
    "custom_object = CustomType()\n",
    "print(type(custom_object))"
   ]
  },
  {
   "cell_type": "markdown",
   "metadata": {},
   "source": [
    "### Public, Private and Property"
   ]
  },
  {
   "cell_type": "code",
   "execution_count": null,
   "metadata": {},
   "outputs": [],
   "source": [
    "# Read only class having head and body\n",
    "class Document:\n",
    "    pass"
   ]
  },
  {
   "cell_type": "markdown",
   "metadata": {},
   "source": [
    "### Python classes Mixins and Inheritance"
   ]
  },
  {
   "cell_type": "code",
   "execution_count": null,
   "metadata": {},
   "outputs": [],
   "source": [
    "# Mixins\n",
    "## Fix the following in a simple way\n",
    "class User:\n",
    "    pass"
   ]
  },
  {
   "cell_type": "markdown",
   "metadata": {},
   "source": [
    "### Dunder Methods/Magic Methods"
   ]
  },
  {
   "cell_type": "code",
   "execution_count": null,
   "metadata": {},
   "outputs": [],
   "source": [
    "## __init__"
   ]
  },
  {
   "cell_type": "code",
   "execution_count": null,
   "metadata": {},
   "outputs": [],
   "source": [
    "## __eq__\n",
    "\n",
    "# Write a class with a product identifier"
   ]
  },
  {
   "cell_type": "code",
   "execution_count": null,
   "metadata": {},
   "outputs": [],
   "source": [
    "# A callable class?"
   ]
  },
  {
   "cell_type": "code",
   "execution_count": null,
   "metadata": {},
   "outputs": [],
   "source": [
    "## Write a shopping cart class which can return length with a hashable type"
   ]
  },
  {
   "cell_type": "code",
   "execution_count": null,
   "metadata": {},
   "outputs": [],
   "source": [
    "## Write a fibonacci generator class use collections.abc"
   ]
  },
  {
   "cell_type": "markdown",
   "metadata": {},
   "source": [
    "## Contexts"
   ]
  },
  {
   "cell_type": "code",
   "execution_count": null,
   "metadata": {},
   "outputs": [],
   "source": [
    "# Run a multi process program with locks"
   ]
  },
  {
   "cell_type": "markdown",
   "metadata": {},
   "source": [
    "## Decorators"
   ]
  },
  {
   "cell_type": "code",
   "execution_count": null,
   "metadata": {},
   "outputs": [],
   "source": [
    "# Logging by wrapping function"
   ]
  },
  {
   "cell_type": "markdown",
   "metadata": {},
   "source": [
    "## Generators"
   ]
  },
  {
   "cell_type": "code",
   "execution_count": null,
   "metadata": {},
   "outputs": [],
   "source": [
    "# Fibonacci generator with a generator as a function"
   ]
  },
  {
   "cell_type": "markdown",
   "metadata": {},
   "source": [
    "## Higher order functions"
   ]
  },
  {
   "cell_type": "code",
   "execution_count": null,
   "metadata": {},
   "outputs": [],
   "source": [
    "def apply_command(command, arg1, arg2):\n",
    "    return command(arg1, arg2)\n",
    "\n",
    "def add(a, b):\n",
    "    return a+b\n",
    "\n",
    "def multiply(a, b):\n",
    "    return a*b\n",
    "\n",
    "print(apply_command(add, 3, 5))\n",
    "print(apply_command(multiply, 2, 3))"
   ]
  },
  {
   "cell_type": "code",
   "execution_count": null,
   "metadata": {},
   "outputs": [],
   "source": [
    "type(apply_command)"
   ]
  },
  {
   "cell_type": "markdown",
   "metadata": {},
   "source": [
    "## Map-Reduce-Filter"
   ]
  },
  {
   "cell_type": "code",
   "execution_count": null,
   "metadata": {},
   "outputs": [],
   "source": [
    "from functools import reduce\n",
    "\n",
    "# Function to find the if number is even\n",
    "def is_even(num):\n",
    "    return num % 2 == 0\n",
    "\n",
    "# Initial list\n",
    "lst = [1, 2, 3, 4, 5, 6, 7, 8, 9, 10, 11, 12, 13, 14, 15]\n",
    "print(\"List:\", lst)\n",
    "\n",
    "# find all the even numbers\n",
    "# reduce m:1 \n",
    "sum_of_elements = reduce(add, lst)\n",
    "print(\"Addition of numbers:\", sum_of_elements)\n",
    "\n",
    "# sum function\n",
    "print(\"Sum:\", sum(lst))\n",
    "\n",
    "# cube all the numbers in a list\n",
    "# map n:n\n",
    "print('Cube of all elements:', list(map(lambda num: num**3, lst)))\n",
    "\n",
    "# filter function\n",
    "# map m:n where n<=m\n",
    "print(\"All the even numbers:\", list(filter(is_even, lst)))"
   ]
  },
  {
   "cell_type": "markdown",
   "metadata": {},
   "source": [
    "## If expressions"
   ]
  },
  {
   "cell_type": "code",
   "execution_count": null,
   "metadata": {},
   "outputs": [],
   "source": [
    "def biggest_number(a, b):\n",
    "    return b if a < b else a\n",
    "\n",
    "print(biggest_number(2, 3))\n",
    "print(biggest_number(5, 1))"
   ]
  },
  {
   "cell_type": "markdown",
   "metadata": {},
   "source": [
    "## Comprehensions"
   ]
  },
  {
   "cell_type": "code",
   "execution_count": null,
   "metadata": {},
   "outputs": [],
   "source": [
    "print(\"lst:\", lst)\n",
    "\n",
    "# simplest comprehension (does nothing)\n",
    "print(\"simplest:\", [elem for elem in lst])\n",
    "\n",
    "# cube all elements\n",
    "print(\"cube:\", [elem**3 for elem in lst])\n",
    "\n",
    "# type of comprehension\n",
    "print(type(elem**3 for elem in lst))\n",
    "\n",
    "# filtering elements\n",
    "print(\"Filter on all < 9:\", [elem**3 for elem in lst if elem < 9])\n",
    "\n",
    "gen = (elem**3 for elem in lst)\n",
    "x = next(gen)\n",
    "print(x)\n",
    "x = next(gen)\n",
    "print(x)\n",
    "\n",
    "def get_gen2(l):\n",
    "    for elem in l:\n",
    "        yield elem**3\n",
    "\n",
    "gen2 = get_gen2(lst)\n",
    "print(type(gen2))\n",
    "x = next(gen2)\n",
    "print(x)\n",
    "x = next(gen2)\n",
    "print(x)"
   ]
  }
 ],
 "metadata": {
  "kernelspec": {
   "display_name": "Python 3",
   "language": "python",
   "name": "python3"
  },
  "language_info": {
   "codemirror_mode": {
    "name": "ipython",
    "version": 3
   },
   "file_extension": ".py",
   "mimetype": "text/x-python",
   "name": "python",
   "nbconvert_exporter": "python",
   "pygments_lexer": "ipython3",
   "version": "3.7.6"
  }
 },
 "nbformat": 4,
 "nbformat_minor": 4
}
