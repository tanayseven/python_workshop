{
 "cells": [
  {
   "cell_type": "markdown",
   "metadata": {},
   "source": [
    "# Intro to Python 2: Declarative Python"
   ]
  },
  {
   "cell_type": "markdown",
   "metadata": {},
   "source": [
    "## Higher order functions\n"
   ]
  },
  {
   "cell_type": "code",
   "execution_count": 1,
   "metadata": {},
   "outputs": [
    {
     "name": "stdout",
     "output_type": "stream",
     "text": [
      "8\n",
      "6\n"
     ]
    }
   ],
   "source": [
    "def apply_command(command, arg1, arg2):\n",
    "    return command(arg1, arg2)\n",
    "\n",
    "def add(a, b):\n",
    "    return a+b\n",
    "\n",
    "def multiply(a, b):\n",
    "    return a*b\n",
    "\n",
    "print(apply_command(add, 3, 5))\n",
    "print(apply_command(multiply, 2, 3))"
   ]
  },
  {
   "cell_type": "code",
   "execution_count": 2,
   "metadata": {},
   "outputs": [
    {
     "data": {
      "text/plain": [
       "function"
      ]
     },
     "execution_count": 2,
     "metadata": {},
     "output_type": "execute_result"
    }
   ],
   "source": [
    "type(apply_command)"
   ]
  },
  {
   "cell_type": "markdown",
   "metadata": {},
   "source": [
    "## Map-Reduce-Filter"
   ]
  },
  {
   "cell_type": "code",
   "execution_count": 23,
   "metadata": {},
   "outputs": [
    {
     "name": "stdout",
     "output_type": "stream",
     "text": [
      "List: [1, 2, 3, 4, 5, 6, 7, 8, 9, 10, 11, 12, 13, 14, 15]\n",
      "Addition of numbers: 120\n",
      "Sum: 120\n",
      "Cube of all elements: [1, 8, 27, 64, 125, 216, 343, 512, 729, 1000, 1331, 1728, 2197, 2744, 3375]\n",
      "All the even numbers: [2, 4, 6, 8, 10, 12, 14]\n"
     ]
    }
   ],
   "source": [
    "from functools import reduce\n",
    "\n",
    "# Function to find the if number is even\n",
    "def is_even(num):\n",
    "    return num % 2 == 0\n",
    "\n",
    "# Initial list\n",
    "lst = [1, 2, 3, 4, 5, 6, 7, 8, 9, 10, 11, 12, 13, 14, 15]\n",
    "print(\"List:\", lst)\n",
    "\n",
    "# find all the even numbers\n",
    "# reduce m:1 \n",
    "sum_of_elements = reduce(add, lst)\n",
    "print(\"Addition of numbers:\", sum_of_elements)\n",
    "\n",
    "# sum function\n",
    "print(\"Sum:\", sum(lst))\n",
    "\n",
    "# cube all the numbers in a list\n",
    "# map n:n\n",
    "print('Cube of all elements:', list(map(lambda num: num**3, lst)))\n",
    "\n",
    "# filter function\n",
    "# map m:n where n<=m\n",
    "print(\"All the even numbers:\", list(filter(is_even, lst)))"
   ]
  },
  {
   "cell_type": "markdown",
   "metadata": {},
   "source": [
    "## If expressions"
   ]
  },
  {
   "cell_type": "code",
   "execution_count": 21,
   "metadata": {},
   "outputs": [
    {
     "name": "stdout",
     "output_type": "stream",
     "text": [
      "3\n",
      "5\n"
     ]
    }
   ],
   "source": [
    "def biggest_number(a, b):\n",
    "    return b if a < b else a\n",
    "\n",
    "print(biggest_number(2, 3))\n",
    "print(biggest_number(5, 1))"
   ]
  },
  {
   "cell_type": "markdown",
   "metadata": {},
   "source": [
    "## Comprehensions"
   ]
  },
  {
   "cell_type": "code",
   "execution_count": 40,
   "metadata": {},
   "outputs": [
    {
     "name": "stdout",
     "output_type": "stream",
     "text": [
      "lst: [1, 2, 3, 4, 5, 6, 7, 8, 9, 10, 11, 12, 13, 14, 15]\n",
      "simplest: [1, 2, 3, 4, 5, 6, 7, 8, 9, 10, 11, 12, 13, 14, 15]\n",
      "cube: [1, 8, 27, 64, 125, 216, 343, 512, 729, 1000, 1331, 1728, 2197, 2744, 3375]\n",
      "<class 'generator'>\n",
      "Filter on all < 9: [1, 8, 27, 64, 125, 216, 343, 512]\n",
      "1\n",
      "8\n",
      "<class 'generator'>\n",
      "1\n",
      "8\n"
     ]
    }
   ],
   "source": [
    "print(\"lst:\", lst)\n",
    "\n",
    "# simplest comprehension (does nothing)\n",
    "print(\"simplest:\", [elem for elem in lst])\n",
    "\n",
    "# cube all elements\n",
    "print(\"cube:\", [elem**3 for elem in lst])\n",
    "\n",
    "# type of comprehension\n",
    "print(type(elem**3 for elem in lst))\n",
    "\n",
    "# filtering elements\n",
    "print(\"Filter on all < 9:\", [elem**3 for elem in lst if elem < 9])\n",
    "\n",
    "gen = (elem**3 for elem in lst)\n",
    "x = next(gen)\n",
    "print(x)\n",
    "x = next(gen)\n",
    "print(x)\n",
    "\n",
    "def get_gen2(l):\n",
    "    for elem in l:\n",
    "        yield elem**3\n",
    "\n",
    "gen2 = get_gen2(lst)\n",
    "print(type(gen2))\n",
    "x = next(gen2)\n",
    "print(x)\n",
    "x = next(gen2)\n",
    "print(x)"
   ]
  },
  {
   "cell_type": "code",
   "execution_count": null,
   "metadata": {},
   "outputs": [],
   "source": []
  }
 ],
 "metadata": {
  "kernelspec": {
   "display_name": "Python 3",
   "language": "python",
   "name": "python3"
  },
  "language_info": {
   "codemirror_mode": {
    "name": "ipython",
    "version": 3
   },
   "file_extension": ".py",
   "mimetype": "text/x-python",
   "name": "python",
   "nbconvert_exporter": "python",
   "pygments_lexer": "ipython3",
   "version": "3.7.3"
  }
 },
 "nbformat": 4,
 "nbformat_minor": 4
}
